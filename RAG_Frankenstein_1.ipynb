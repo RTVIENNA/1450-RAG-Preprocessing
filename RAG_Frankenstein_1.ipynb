{
  "nbformat": 4,
  "nbformat_minor": 0,
  "metadata": {
    "colab": {
      "provenance": [],
      "gpuType": "T4",
      "authorship_tag": "ABX9TyM9QCg4T3vjky+pQa6OaL+6",
      "include_colab_link": true
    },
    "kernelspec": {
      "name": "python3",
      "display_name": "Python 3"
    },
    "language_info": {
      "name": "python"
    },
    "accelerator": "GPU"
  },
  "cells": [
    {
      "cell_type": "markdown",
      "metadata": {
        "id": "view-in-github",
        "colab_type": "text"
      },
      "source": [
        "<a href=\"https://colab.research.google.com/github/RTVIENNA/1450-RAG-Preprocessing/blob/main/RAG_Frankenstein_1.ipynb\" target=\"_parent\"><img src=\"https://colab.research.google.com/assets/colab-badge.svg\" alt=\"Open In Colab\"/></a>"
      ]
    },
    {
      "cell_type": "code",
      "source": [
        "%%bash\n",
        "\n",
        "nvidia-smi\n"
      ],
      "metadata": {
        "id": "S3PnwtxI3Xdi"
      },
      "execution_count": null,
      "outputs": []
    },
    {
      "cell_type": "code",
      "source": [
        "import logging\n",
        "\n",
        "logging.basicConfig(format=\"%(levelname)s - %(name)s -  %(message)s\", level=logging.WARNING)\n",
        "logging.getLogger(\"haystack\").setLevel(logging.INFO)"
      ],
      "metadata": {
        "id": "2Vm1Z7vw3Xa7"
      },
      "execution_count": null,
      "outputs": []
    },
    {
      "cell_type": "code",
      "source": [
        "%%bash\n",
        "pip install haystack-ai\n",
        "pip install \"sentence-transformers>=3.0.0\" \"huggingface_hub>=0.23.0\"\n",
        "pip install markdown-it-py mdit_plain pypdf\n",
        "pip install gdown"
      ],
      "metadata": {
        "id": "W0BfpiN_3XYD"
      },
      "execution_count": null,
      "outputs": []
    },
    {
      "cell_type": "code",
      "source": [
        "import logging\n",
        "from haystack import tracing\n",
        "from haystack.tracing.logging_tracer import LoggingTracer\n",
        "\n",
        "logging.basicConfig(format=\"%(levelname)s - %(name)s -  %(message)s\", level=logging.WARNING)\n",
        "logging.getLogger(\"haystack\").setLevel(logging.DEBUG)\n",
        "\n",
        "tracing.tracer.is_content_tracing_enabled = True # to enable tracing/logging content (inputs/outputs)\n",
        "tracing.enable_tracing(LoggingTracer(tags_color_strings={\"haystack.component.input\": \"\\x1b[1;31m\", \"haystack.component.name\": \"\\x1b[1;34m\"}))"
      ],
      "metadata": {
        "id": "_kouPfyF3XVM"
      },
      "execution_count": null,
      "outputs": []
    },
    {
      "cell_type": "code",
      "source": [
        "import gdown\n",
        "\n",
        "url = \"https://drive.google.com/drive/u/0/folders/1YrBIqbbi5uXjR-fuEAMBHL-TwpjtViXu\"\n",
        "output_dir = \"1450_files\"\n",
        "\n",
        "gdown.download_folder(url, quiet=True, output=output_dir)"
      ],
      "metadata": {
        "id": "vVk_172p3XSE"
      },
      "execution_count": null,
      "outputs": []
    },
    {
      "cell_type": "code",
      "source": [
        "from haystack.components.writers import DocumentWriter\n",
        "from haystack.components.converters import MarkdownToDocument, PyPDFToDocument, TextFileToDocument\n",
        "from haystack.components.preprocessors import DocumentSplitter, DocumentCleaner\n",
        "from haystack.components.routers import FileTypeRouter\n",
        "from haystack.components.joiners import DocumentJoiner\n",
        "from haystack.components.embedders import SentenceTransformersDocumentEmbedder\n",
        "from haystack import Pipeline\n",
        "from haystack.document_stores.in_memory import InMemoryDocumentStore\n",
        "\n",
        "document_store = InMemoryDocumentStore()\n",
        "file_type_router = FileTypeRouter(mime_types=[\"text/plain\", \"application/pdf\", \"text/markdown\"])\n",
        "text_file_converter = TextFileToDocument()\n",
        "markdown_converter = MarkdownToDocument()\n",
        "pdf_converter = PyPDFToDocument()\n",
        "document_joiner = DocumentJoiner()"
      ],
      "metadata": {
        "id": "pbzyt7uX3XPM"
      },
      "execution_count": null,
      "outputs": []
    },
    {
      "cell_type": "code",
      "source": [
        "document_cleaner = DocumentCleaner()\n",
        "document_splitter = DocumentSplitter(split_by=\"word\", split_length=150, split_overlap=50)"
      ],
      "metadata": {
        "id": "dlp-MTgM3XMF"
      },
      "execution_count": null,
      "outputs": []
    },
    {
      "cell_type": "code",
      "source": [
        "document_embedder = SentenceTransformersDocumentEmbedder(model=\"sentence-transformers/all-MiniLM-L6-v2\")\n",
        "document_writer = DocumentWriter(document_store)"
      ],
      "metadata": {
        "id": "IjDyPuG43XIs"
      },
      "execution_count": null,
      "outputs": []
    },
    {
      "cell_type": "code",
      "source": [
        "preprocessing_pipeline = Pipeline()\n",
        "preprocessing_pipeline.add_component(instance=file_type_router, name=\"file_type_router\")\n",
        "preprocessing_pipeline.add_component(instance=text_file_converter, name=\"text_file_converter\")\n",
        "preprocessing_pipeline.add_component(instance=markdown_converter, name=\"markdown_converter\")\n",
        "preprocessing_pipeline.add_component(instance=pdf_converter, name=\"pypdf_converter\")\n",
        "preprocessing_pipeline.add_component(instance=document_joiner, name=\"document_joiner\")\n",
        "preprocessing_pipeline.add_component(instance=document_cleaner, name=\"document_cleaner\")\n",
        "preprocessing_pipeline.add_component(instance=document_splitter, name=\"document_splitter\")\n",
        "preprocessing_pipeline.add_component(instance=document_embedder, name=\"document_embedder\")\n",
        "preprocessing_pipeline.add_component(instance=document_writer, name=\"document_writer\")"
      ],
      "metadata": {
        "id": "F-MxOV4Y3XFV"
      },
      "execution_count": null,
      "outputs": []
    },
    {
      "cell_type": "code",
      "source": [
        "preprocessing_pipeline.connect(\"file_type_router.text/plain\", \"text_file_converter.sources\")\n",
        "preprocessing_pipeline.connect(\"file_type_router.application/pdf\", \"pypdf_converter.sources\")\n",
        "preprocessing_pipeline.connect(\"file_type_router.text/markdown\", \"markdown_converter.sources\")\n",
        "preprocessing_pipeline.connect(\"text_file_converter\", \"document_joiner\")\n",
        "preprocessing_pipeline.connect(\"pypdf_converter\", \"document_joiner\")\n",
        "preprocessing_pipeline.connect(\"markdown_converter\", \"document_joiner\")\n",
        "preprocessing_pipeline.connect(\"document_joiner\", \"document_cleaner\")\n",
        "preprocessing_pipeline.connect(\"document_cleaner\", \"document_splitter\")\n",
        "preprocessing_pipeline.connect(\"document_splitter\", \"document_embedder\")\n",
        "preprocessing_pipeline.connect(\"document_embedder\", \"document_writer\")"
      ],
      "metadata": {
        "id": "1W7vEHBp3W_E"
      },
      "execution_count": null,
      "outputs": []
    },
    {
      "cell_type": "code",
      "source": [
        "from pathlib import Path\n",
        "\n",
        "preprocessing_pipeline.run({\"file_type_router\": {\"sources\": list(Path(output_dir).glob(\"**/*\"))}})"
      ],
      "metadata": {
        "id": "PGq3v1IA3W5E"
      },
      "execution_count": null,
      "outputs": []
    },
    {
      "cell_type": "markdown",
      "source": [
        "\n",
        "\n",
        "> Blockzitat einfügen\n",
        "\n",
        "\n",
        "**💻PUSH THE DATA TO DATABASE IN HUGGUNGSFACE**\n",
        "\n",
        "\n",
        "> Blockzitat einfügen\n",
        "\n"
      ],
      "metadata": {
        "id": "rr62g98q30a6"
      }
    },
    {
      "cell_type": "code",
      "source": [
        "documents = document_store.get_all_documents()\n",
        "# Extrahiere die verarbeiteten Dokumente aus dem DocumentStore"
      ],
      "metadata": {
        "id": "wJP5pAwL3W18"
      },
      "execution_count": null,
      "outputs": []
    },
    {
      "cell_type": "code",
      "source": [
        "# Konvertiere die Dokumente in ein DataFrame\n",
        "import pandas as pd\n",
        "df = pd.DataFrame([{\"content\": doc.content, \"meta\": doc.meta} for doc in documents])\n",
        "\n",
        "# Erstelle ein Hugging Face Dataset aus dem DataFrame\n",
        "from datasets import Dataset\n",
        "dataset = Dataset.from_pandas(df)"
      ],
      "metadata": {
        "id": "bZxX2App3WzW"
      },
      "execution_count": null,
      "outputs": []
    },
    {
      "cell_type": "code",
      "source": [
        "# Push das Dataset in dein Repository auf Hugging Face Hub\n",
        "dataset.push_to_hub(\"RTVIENNA/1450-RAG-Preprocessing-Data\", token=os.environ[\"HF_API_TOKEN\"])"
      ],
      "metadata": {
        "id": "l-6zYMgP3WxB"
      },
      "execution_count": null,
      "outputs": []
    },
    {
      "cell_type": "code",
      "source": [
        "**💻END OF: PUSH THE DATA TO DATABASE IN HUGGUNGSFACE**\n"
      ],
      "metadata": {
        "id": "mzz4cJXw3Ws1"
      },
      "execution_count": null,
      "outputs": []
    },
    {
      "cell_type": "markdown",
      "source": [
        "# **🕵🏻 Agentic RAG with 🦙 Llama 3.2 3B**"
      ],
      "metadata": {
        "id": "jg5Kesgf4OrV"
      }
    },
    {
      "cell_type": "code",
      "source": [
        "! pip install haystack-ai duckduckgo-api-haystack transformers sentence-transformers datasets"
      ],
      "metadata": {
        "id": "38pCo05Q3Wp-"
      },
      "execution_count": null,
      "outputs": []
    },
    {
      "cell_type": "code",
      "source": [
        "from datasets import load_dataset\n",
        "from haystack import Document\n",
        "\n",
        "from haystack.document_stores.in_memory import InMemoryDocumentStore\n",
        "from haystack.components.embedders import SentenceTransformersDocumentEmbedder\n",
        "\n",
        "document_store = InMemoryDocumentStore()\n",
        "\n",
        "dataset = load_dataset(\"RTVIENNA/1450-RAG-Preprocessing-Data\", split=\"train\")\n",
        "docs = [Document(content=doc[\"content\"], meta=doc[\"meta\"]) for doc in dataset]\n",
        "\n",
        "doc_embedder = SentenceTransformersDocumentEmbedder(model=\"sentence-transformers/all-MiniLM-L6-v2\")\n",
        "doc_embedder.warm_up()\n",
        "\n",
        "docs_with_embeddings = doc_embedder.run(docs)\n",
        "document_store.write_documents(docs_with_embeddings[\"documents\"])"
      ],
      "metadata": {
        "id": "aGxFS5Wh3WnG"
      },
      "execution_count": null,
      "outputs": []
    },
    {
      "cell_type": "code",
      "source": [
        "import getpass, os\n",
        "\n",
        "os.environ[\"HF_TOKEN\"] = getpass.getpass(\"Your Hugging Face token\")"
      ],
      "metadata": {
        "id": "3e6LBW-C3WkP"
      },
      "execution_count": null,
      "outputs": []
    },
    {
      "cell_type": "code",
      "source": [
        "import torch\n",
        "from haystack.components.generators import HuggingFaceLocalGenerator\n",
        "\n",
        "generator = HuggingFaceLocalGenerator(\n",
        "    model=\"meta-llama/Llama-3.2-3B-Instruct\",\n",
        "    huggingface_pipeline_kwargs={\"device_map\":\"auto\",\n",
        "                                 \"torch_dtype\":torch.bfloat16},\n",
        "    generation_kwargs={\"max_new_tokens\": 256})\n",
        "\n",
        "generator.warm_up()"
      ],
      "metadata": {
        "id": "SMnEv3uQ3WhH"
      },
      "execution_count": null,
      "outputs": []
    },
    {
      "cell_type": "code",
      "source": [
        "prompt = \"\"\"<|begin_of_text|><|start_header_id|>user<|end_header_id|>\n",
        "  What is the capital of France?<|eot_id|>\n",
        "  <|start_header_id|>assistant<|end_header_id|>\"\"\"\n",
        "\n",
        "generator.run(prompt)"
      ],
      "metadata": {
        "id": "a4Cy8WAj3Weg"
      },
      "execution_count": null,
      "outputs": []
    },
    {
      "cell_type": "markdown",
      "source": [
        "## Build the 🕵🏻 Agentic RAG"
      ],
      "metadata": {
        "id": "x98CHCst4bqo"
      }
    },
    {
      "cell_type": "code",
      "source": [
        "from haystack.components.embedders import SentenceTransformersTextEmbedder\n",
        "from haystack.components.retrievers.in_memory import InMemoryEmbeddingRetriever\n",
        "\n",
        "text_embedder = SentenceTransformersTextEmbedder(model=\"sentence-transformers/all-MiniLM-L6-v2\")\n",
        "retriever = InMemoryEmbeddingRetriever(document_store, top_k=5)"
      ],
      "metadata": {
        "id": "2zkfeyL74fWh"
      },
      "execution_count": null,
      "outputs": []
    },
    {
      "cell_type": "code",
      "source": [
        "from haystack.components.builders import PromptBuilder\n",
        "\n",
        "prompt_template = \"\"\"\n",
        "<|begin_of_text|><|start_header_id|>user<|end_header_id|>\n",
        "\n",
        "Answer the following query given the documents.\n",
        "If the answer is not contained within the documents reply with 'no_answer'.\n",
        "If the answer is contained within the documents, start the answer with \"FROM THE KNOWLEDGE BASE: \".\n",
        "\n",
        "Documents:\n",
        "{% for document in documents %}\n",
        "  {{document.content}}\n",
        "{% endfor %}\n",
        "\n",
        "Query: {{query}}<|eot_id|>\n",
        "\n",
        "<|start_header_id|>assistant<|end_header_id|>\n",
        "\"\"\"\n",
        "\n",
        "prompt_builder = PromptBuilder(template=prompt_template)"
      ],
      "metadata": {
        "id": "RlLCORLj3Wb6"
      },
      "execution_count": null,
      "outputs": []
    },
    {
      "cell_type": "code",
      "source": [
        "from haystack.components.routers import ConditionalRouter\n",
        "\n",
        "routes = [\n",
        "    {\n",
        "        \"condition\": \"{{'no_answer' in replies[0]}}\",\n",
        "        \"output\": \"{{query}}\",\n",
        "        \"output_name\": \"go_to_websearch\",\n",
        "        \"output_type\": str,\n",
        "    },\n",
        "    {\n",
        "        \"condition\": \"{{'no_answer' not in replies[0]}}\",\n",
        "        \"output\": \"{{replies[0]}}\",\n",
        "        \"output_name\": \"answer\",\n",
        "        \"output_type\": str,\n",
        "    },\n",
        "]\n",
        "\n",
        "router = ConditionalRouter(routes)"
      ],
      "metadata": {
        "id": "CMejHbR13WZC"
      },
      "execution_count": null,
      "outputs": []
    },
    {
      "cell_type": "code",
      "source": [
        "router.run(replies=[\"this is the answer!\"])"
      ],
      "metadata": {
        "id": "bdAor-pl40qk"
      },
      "execution_count": null,
      "outputs": []
    },
    {
      "cell_type": "code",
      "source": [
        "router.run(replies=[\"no_answer\"], query=\"my query\")"
      ],
      "metadata": {
        "id": "KhZJ_kWZ40nc"
      },
      "execution_count": null,
      "outputs": []
    },
    {
      "cell_type": "code",
      "source": [
        "from duckduckgo_api_haystack import DuckduckgoApiWebSearch\n",
        "\n",
        "websearch = DuckduckgoApiWebSearch(top_k=5)"
      ],
      "metadata": {
        "id": "vAilwCmL40k1"
      },
      "execution_count": null,
      "outputs": []
    },
    {
      "cell_type": "code",
      "source": [
        "# Perform a search\n",
        "results = websearch.run(query=\"Where is Tanzania?\")\n",
        "\n",
        "# Access the search results\n",
        "documents = results[\"documents\"]\n",
        "links = results[\"links\"]\n",
        "\n",
        "print(\"Found documents:\")\n",
        "for doc in documents:\n",
        "    print(f\"Content: {doc.content}\")\n",
        "\n",
        "print(\"\\nSearch Links:\")\n",
        "for link in links:\n",
        "    print(link)"
      ],
      "metadata": {
        "id": "xQJEqMW040h-"
      },
      "execution_count": null,
      "outputs": []
    },
    {
      "cell_type": "code",
      "source": [
        "prompt_template_after_websearch = \"\"\"\n",
        "<|begin_of_text|><|start_header_id|>user<|end_header_id|>\n",
        "\n",
        "Answer the following query given the documents retrieved from the web.\n",
        "Start the answer with \"FROM THE WEB: \".\n",
        "\n",
        "Documents:\n",
        "{% for document in documents %}\n",
        "  {{document.content}}\n",
        "{% endfor %}\n",
        "\n",
        "Query: {{query}}<|eot_id|>\n",
        "\n",
        "<|start_header_id|>assistant<|end_header_id|>\n",
        "\"\"\"\n",
        "\n",
        "prompt_builder_after_websearch = PromptBuilder(template=prompt_template_after_websearch)"
      ],
      "metadata": {
        "id": "FM5sqxbh40fX"
      },
      "execution_count": null,
      "outputs": []
    },
    {
      "cell_type": "code",
      "source": [
        "from haystack.components.joiners import BranchJoiner\n",
        "prompt_joiner  = BranchJoiner(str)\n",
        "\n",
        "from haystack import Pipeline\n",
        "\n",
        "pipe = Pipeline()\n",
        "pipe.add_component(\"text_embedder\", text_embedder)\n",
        "pipe.add_component(\"retriever\", retriever)\n",
        "pipe.add_component(\"prompt_builder\", prompt_builder)\n",
        "pipe.add_component(\"prompt_joiner\", prompt_joiner)\n",
        "pipe.add_component(\"llm\", generator)\n",
        "pipe.add_component(\"router\", router)\n",
        "pipe.add_component(\"websearch\", websearch)\n",
        "pipe.add_component(\"prompt_builder_after_websearch\", prompt_builder_after_websearch)\n",
        "\n",
        "pipe.connect(\"text_embedder\", \"retriever\")\n",
        "pipe.connect(\"retriever\", \"prompt_builder.documents\")\n",
        "pipe.connect(\"prompt_builder\", \"prompt_joiner\")\n",
        "pipe.connect(\"prompt_joiner\", \"llm\")\n",
        "pipe.connect(\"llm.replies\", \"router.replies\")\n",
        "pipe.connect(\"router.go_to_websearch\", \"websearch.query\")\n",
        "pipe.connect(\"router.go_to_websearch\", \"prompt_builder_after_websearch.query\")\n",
        "pipe.connect(\"websearch.documents\", \"prompt_builder_after_websearch.documents\")\n",
        "pipe.connect(\"prompt_builder_after_websearch\", \"prompt_joiner\")"
      ],
      "metadata": {
        "id": "kgnYKz7A40cx"
      },
      "execution_count": null,
      "outputs": []
    },
    {
      "cell_type": "code",
      "source": [
        "pipe.show()"
      ],
      "metadata": {
        "id": "8U66IIuk40Z6"
      },
      "execution_count": null,
      "outputs": []
    },
    {
      "cell_type": "code",
      "source": [
        "def get_answer(query):\n",
        "  result = pipe.run({\"text_embedder\": {\"text\": query}, \"prompt_builder\": {\"query\": query}, \"router\": {\"query\": query}})\n",
        "  print(result[\"router\"][\"answer\"])"
      ],
      "metadata": {
        "id": "FoAhhzgH40XB"
      },
      "execution_count": null,
      "outputs": []
    },
    {
      "cell_type": "code",
      "source": [
        "query = \"What is the Manchester Triage Algorithm ?\"\n",
        "\n",
        "get_answer(query)"
      ],
      "metadata": {
        "id": "oCcU8LRl40UL"
      },
      "execution_count": null,
      "outputs": []
    },
    {
      "cell_type": "code",
      "source": [
        "query = \"What is to do when somebody stopped breathing ?\"\n",
        "\n",
        "get_answer(query)"
      ],
      "metadata": {
        "id": "a0wSc79s40RT"
      },
      "execution_count": null,
      "outputs": []
    },
    {
      "cell_type": "code",
      "source": [],
      "metadata": {
        "id": "Jfj_HrFi40O9"
      },
      "execution_count": null,
      "outputs": []
    },
    {
      "cell_type": "code",
      "source": [],
      "metadata": {
        "id": "4hmpx4Gv40MG"
      },
      "execution_count": null,
      "outputs": []
    },
    {
      "cell_type": "code",
      "source": [],
      "metadata": {
        "id": "yAEkLq7l40GW"
      },
      "execution_count": null,
      "outputs": []
    },
    {
      "cell_type": "code",
      "source": [],
      "metadata": {
        "id": "wJ6ba2Ro3WV7"
      },
      "execution_count": null,
      "outputs": []
    }
  ]
}